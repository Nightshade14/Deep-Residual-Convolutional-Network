{
 "cells": [
  {
   "cell_type": "markdown",
   "metadata": {},
   "source": [
    "# ResNets on CIFAR10"
   ]
  },
  {
   "cell_type": "code",
   "execution_count": 8,
   "metadata": {
    "id": "YRcEHd9kqRMy"
   },
   "outputs": [],
   "source": [
    "# Importing the Libraries\n",
    "import numpy as np\n",
    "import torch\n",
    "from torch import nn\n",
    "import matplotlib.pyplot as plt\n",
    "from torchvision import transforms, datasets\n",
    "from torch.utils.data import DataLoader\n",
    "import pandas as pd\n",
    "import torch.optim as optim\n",
    "import pickle"
   ]
  },
  {
   "cell_type": "markdown",
   "metadata": {},
   "source": [
    "### Helper Functions"
   ]
  },
  {
   "cell_type": "code",
   "execution_count": 9,
   "metadata": {
    "id": "fj_ZmDBxqRM2"
   },
   "outputs": [],
   "source": [
    "def unpickle(file):\n",
    "    import pickle\n",
    "    with open(file, 'rb') as fo:\n",
    "        dict = pickle.load(fo, encoding='bytes')\n",
    "    return dict"
   ]
  },
  {
   "cell_type": "code",
   "execution_count": 10,
   "metadata": {
    "id": "jsUkyka9qRM2"
   },
   "outputs": [],
   "source": [
    "def get_label_names_from_bytes_dict(x:dict) -> list:\n",
    "    data = x.get(b\"label_names\")\n",
    "    labels =  list(map(lambda m: m.decode(\"utf-8\"),data))\n",
    "    label_dict = dict()\n",
    "    for i in range(10):\n",
    "        label_dict.update({labels[i]: i})\n",
    "    return label_dict"
   ]
  },
  {
   "cell_type": "code",
   "execution_count": 11,
   "metadata": {
    "id": "rir-0ddRqRM3"
   },
   "outputs": [],
   "source": [
    "def is_my_model_under_5m_params(model):\n",
    "    FIVE_MILLION = 5_000_000\n",
    "    sum = 0\n",
    "    for x in model.parameters():\n",
    "        sum += x.numel()\n",
    "    print(sum)\n",
    "    if sum <= FIVE_MILLION:\n",
    "        print(\"less than 5 million params\")\n",
    "    else:\n",
    "        print(f\"Decrease {sum - FIVE_MILLION} params!!!\")"
   ]
  },
  {
   "cell_type": "code",
   "execution_count": 12,
   "metadata": {
    "id": "V8QYoYYxqRM3"
   },
   "outputs": [],
   "source": [
    "META_FILE_PATH = \"/content/dataset/train/batches.meta\"\n",
    "\n",
    "TRAINING_FILE_PATH = \"/content/dataset/train/\"\n",
    "VALIDATION_FILE_PATH = \"/content/dataset/val/test_batch\"\n",
    "TEST_FILE_PATH = \"/content/dataset/test/cifar_test_nolabels.pkl\"\n",
    "\n",
    "IS_LOGGING_ENABLED = True"
   ]
  },
  {
   "cell_type": "code",
   "execution_count": 14,
   "metadata": {
    "colab": {
     "base_uri": "https://localhost:8080/"
    },
    "id": "6zcLbwLOqRM5",
    "outputId": "eb409336-c179-4b26-9a88-a3cb94e0d32e"
   },
   "outputs": [
    {
     "data": {
      "text/plain": [
       "<torch._C.Generator at 0x7f38980fa730>"
      ]
     },
     "execution_count": 14,
     "metadata": {},
     "output_type": "execute_result"
    }
   ],
   "source": [
    "# Setting the seed\n",
    "torch.manual_seed(0)"
   ]
  },
  {
   "cell_type": "code",
   "execution_count": 15,
   "metadata": {
    "colab": {
     "base_uri": "https://localhost:8080/"
    },
    "id": "qs3Ux2CTqRM7",
    "outputId": "c2b2082e-5072-46d3-a732-afcbb6317a42"
   },
   "outputs": [
    {
     "name": "stdout",
     "output_type": "stream",
     "text": [
      "Files already downloaded and verified\n",
      "Files already downloaded and verified\n"
     ]
    }
   ],
   "source": [
    "# Composing multiple transformations to apply on the image when creating the dataset\n",
    "transform_train = transforms.Compose([\n",
    "    transforms.RandomHorizontalFlip(),\n",
    "    transforms.RandomCrop(32, padding=4),\n",
    "    transforms.ToTensor(),\n",
    "    transforms.Normalize((0.5, 0.5, 0.5), (0.5, 0.5, 0.5)),\n",
    "])\n",
    "\n",
    "# The validation images would only be normalized as we want to infer on it\n",
    "transform_val = transforms.Compose([\n",
    "    transforms.ToTensor(),\n",
    "    transforms.Normalize((0.5, 0.5, 0.5), (0.5, 0.5, 0.5)),\n",
    "])\n",
    "\n",
    "# loading the data\n",
    "\n",
    "trainset = datasets.CIFAR10(root='./data', train=True, download=True, transform=transform_train)\n",
    "train_loader = DataLoader(trainset, batch_size=128, shuffle=True, num_workers=2)\n",
    "\n",
    "testset = datasets.CIFAR10(root='./data', train=False, download=True, transform=transform_val)\n",
    "val_loader = DataLoader(testset, batch_size=100, shuffle=False, num_workers=2)"
   ]
  },
  {
   "cell_type": "markdown",
   "metadata": {},
   "source": [
    "## Model Architecture"
   ]
  },
  {
   "cell_type": "code",
   "execution_count": 16,
   "metadata": {
    "id": "KB8fkSgbEavB"
   },
   "outputs": [],
   "source": [
    "def conv3x3(in_channels, out_channels, stride=1):\n",
    "    return nn.Conv2d(in_channels, out_channels, kernel_size=3,\n",
    "                     stride=stride, padding=1, bias=False)\n",
    "\n",
    "class ResidualBlock(nn.Module):\n",
    "    def __init__(self, in_channels, out_channels, stride=1, downsample=None):\n",
    "        super(ResidualBlock, self).__init__()\n",
    "        self.conv1 = conv3x3(in_channels, out_channels, stride)\n",
    "        self.bn1 = nn.BatchNorm2d(out_channels)\n",
    "        self.relu = nn.ReLU(inplace=True)\n",
    "        self.conv2 = conv3x3(out_channels, out_channels)\n",
    "        self.bn2 = nn.BatchNorm2d(out_channels)\n",
    "        self.downsample = downsample\n",
    "        self.dropout = nn.Dropout(0.6)\n",
    "\n",
    "    def forward(self, x):\n",
    "        residual = x\n",
    "        out = self.conv1(x)\n",
    "        out = self.bn1(out)\n",
    "        out = self.relu(out)\n",
    "        out = self.dropout(out)\n",
    "        out = self.conv2(out)\n",
    "        out = self.bn2(out)\n",
    "        if self.downsample is not None:\n",
    "            residual = self.downsample(residual)\n",
    "        out += residual\n",
    "        out = self.relu(out)\n",
    "        return out\n",
    "\n",
    "class ResNet(nn.Module):\n",
    "    def __init__(self, block, layers, num_classes=10):\n",
    "        super(ResNet, self).__init__()\n",
    "        self.in_channels = 16\n",
    "        self.conv = conv3x3(3, 16)\n",
    "        self.bn = nn.BatchNorm2d(16)\n",
    "        self.relu = nn.ReLU(inplace=True)\n",
    "        self.layer1 = self.make_layer(block, 32, layers[0])\n",
    "        self.layer2 = self.make_layer(block, 64, layers[1], 2)\n",
    "        self.layer3 = self.make_layer(block, 128, layers[2], 2)\n",
    "        self.layer4 = self.make_layer(block, 256, layers[3], 2)\n",
    "        self.avg_pool = nn.AvgPool2d(4)\n",
    "        self.fc = nn.Linear(256, num_classes)\n",
    "\n",
    "    def make_layer(self, block, out_channels, blocks, stride=1):\n",
    "        downsample = None\n",
    "        if (stride != 1) or (self.in_channels != out_channels):\n",
    "            downsample = nn.Sequential(\n",
    "                conv3x3(self.in_channels, out_channels, stride=stride),\n",
    "                nn.BatchNorm2d(out_channels))\n",
    "        layers = []\n",
    "        layers.append(block(self.in_channels, out_channels, stride, downsample))\n",
    "        self.in_channels = out_channels\n",
    "        for i in range(1, blocks):\n",
    "            layers.append(block(out_channels, out_channels))\n",
    "        return nn.Sequential(*layers)\n",
    "\n",
    "    def forward(self, x):\n",
    "        out = self.conv(x)\n",
    "        out = self.bn(out)\n",
    "        out = self.relu(out)\n",
    "        out = self.layer1(out)\n",
    "        out = self.layer2(out)\n",
    "        out = self.layer3(out)\n",
    "        out = self.layer4(out)\n",
    "        out = self.avg_pool(out)\n",
    "        out = out.view(out.size(0), -1)\n",
    "        out = self.fc(out)\n",
    "        return out\n",
    "\n",
    "model = ResNet(ResidualBlock, [3, 3, 3, 3])"
   ]
  },
  {
   "cell_type": "code",
   "execution_count": 17,
   "metadata": {
    "colab": {
     "base_uri": "https://localhost:8080/"
    },
    "id": "s4V1a_UYqRM8",
    "outputId": "c080b0e2-4f6b-4865-d2cc-edd182bc68f8"
   },
   "outputs": [
    {
     "name": "stdout",
     "output_type": "stream",
     "text": [
      "4709914\n",
      "less than 5 million params\n"
     ]
    }
   ],
   "source": [
    "is_my_model_under_5m_params(model)"
   ]
  },
  {
   "cell_type": "code",
   "execution_count": 18,
   "metadata": {},
   "outputs": [
    {
     "data": {
      "text/plain": [
       "ResNet(\n",
       "  (conv): Conv2d(3, 16, kernel_size=(3, 3), stride=(1, 1), padding=(1, 1), bias=False)\n",
       "  (bn): BatchNorm2d(16, eps=1e-05, momentum=0.1, affine=True, track_running_stats=True)\n",
       "  (relu): ReLU(inplace=True)\n",
       "  (layer1): Sequential(\n",
       "    (0): ResidualBlock(\n",
       "      (conv1): Conv2d(16, 32, kernel_size=(3, 3), stride=(1, 1), padding=(1, 1), bias=False)\n",
       "      (bn1): BatchNorm2d(32, eps=1e-05, momentum=0.1, affine=True, track_running_stats=True)\n",
       "      (relu): ReLU(inplace=True)\n",
       "      (conv2): Conv2d(32, 32, kernel_size=(3, 3), stride=(1, 1), padding=(1, 1), bias=False)\n",
       "      (bn2): BatchNorm2d(32, eps=1e-05, momentum=0.1, affine=True, track_running_stats=True)\n",
       "      (downsample): Sequential(\n",
       "        (0): Conv2d(16, 32, kernel_size=(3, 3), stride=(1, 1), padding=(1, 1), bias=False)\n",
       "        (1): BatchNorm2d(32, eps=1e-05, momentum=0.1, affine=True, track_running_stats=True)\n",
       "      )\n",
       "      (dropout): Dropout(p=0.6, inplace=False)\n",
       "    )\n",
       "    (1): ResidualBlock(\n",
       "      (conv1): Conv2d(32, 32, kernel_size=(3, 3), stride=(1, 1), padding=(1, 1), bias=False)\n",
       "      (bn1): BatchNorm2d(32, eps=1e-05, momentum=0.1, affine=True, track_running_stats=True)\n",
       "      (relu): ReLU(inplace=True)\n",
       "      (conv2): Conv2d(32, 32, kernel_size=(3, 3), stride=(1, 1), padding=(1, 1), bias=False)\n",
       "      (bn2): BatchNorm2d(32, eps=1e-05, momentum=0.1, affine=True, track_running_stats=True)\n",
       "      (dropout): Dropout(p=0.6, inplace=False)\n",
       "    )\n",
       "    (2): ResidualBlock(\n",
       "      (conv1): Conv2d(32, 32, kernel_size=(3, 3), stride=(1, 1), padding=(1, 1), bias=False)\n",
       "      (bn1): BatchNorm2d(32, eps=1e-05, momentum=0.1, affine=True, track_running_stats=True)\n",
       "      (relu): ReLU(inplace=True)\n",
       "      (conv2): Conv2d(32, 32, kernel_size=(3, 3), stride=(1, 1), padding=(1, 1), bias=False)\n",
       "      (bn2): BatchNorm2d(32, eps=1e-05, momentum=0.1, affine=True, track_running_stats=True)\n",
       "      (dropout): Dropout(p=0.6, inplace=False)\n",
       "    )\n",
       "  )\n",
       "  (layer2): Sequential(\n",
       "    (0): ResidualBlock(\n",
       "      (conv1): Conv2d(32, 64, kernel_size=(3, 3), stride=(2, 2), padding=(1, 1), bias=False)\n",
       "      (bn1): BatchNorm2d(64, eps=1e-05, momentum=0.1, affine=True, track_running_stats=True)\n",
       "      (relu): ReLU(inplace=True)\n",
       "      (conv2): Conv2d(64, 64, kernel_size=(3, 3), stride=(1, 1), padding=(1, 1), bias=False)\n",
       "      (bn2): BatchNorm2d(64, eps=1e-05, momentum=0.1, affine=True, track_running_stats=True)\n",
       "      (downsample): Sequential(\n",
       "        (0): Conv2d(32, 64, kernel_size=(3, 3), stride=(2, 2), padding=(1, 1), bias=False)\n",
       "        (1): BatchNorm2d(64, eps=1e-05, momentum=0.1, affine=True, track_running_stats=True)\n",
       "      )\n",
       "      (dropout): Dropout(p=0.6, inplace=False)\n",
       "    )\n",
       "    (1): ResidualBlock(\n",
       "      (conv1): Conv2d(64, 64, kernel_size=(3, 3), stride=(1, 1), padding=(1, 1), bias=False)\n",
       "      (bn1): BatchNorm2d(64, eps=1e-05, momentum=0.1, affine=True, track_running_stats=True)\n",
       "      (relu): ReLU(inplace=True)\n",
       "      (conv2): Conv2d(64, 64, kernel_size=(3, 3), stride=(1, 1), padding=(1, 1), bias=False)\n",
       "      (bn2): BatchNorm2d(64, eps=1e-05, momentum=0.1, affine=True, track_running_stats=True)\n",
       "      (dropout): Dropout(p=0.6, inplace=False)\n",
       "    )\n",
       "    (2): ResidualBlock(\n",
       "      (conv1): Conv2d(64, 64, kernel_size=(3, 3), stride=(1, 1), padding=(1, 1), bias=False)\n",
       "      (bn1): BatchNorm2d(64, eps=1e-05, momentum=0.1, affine=True, track_running_stats=True)\n",
       "      (relu): ReLU(inplace=True)\n",
       "      (conv2): Conv2d(64, 64, kernel_size=(3, 3), stride=(1, 1), padding=(1, 1), bias=False)\n",
       "      (bn2): BatchNorm2d(64, eps=1e-05, momentum=0.1, affine=True, track_running_stats=True)\n",
       "      (dropout): Dropout(p=0.6, inplace=False)\n",
       "    )\n",
       "  )\n",
       "  (layer3): Sequential(\n",
       "    (0): ResidualBlock(\n",
       "      (conv1): Conv2d(64, 128, kernel_size=(3, 3), stride=(2, 2), padding=(1, 1), bias=False)\n",
       "      (bn1): BatchNorm2d(128, eps=1e-05, momentum=0.1, affine=True, track_running_stats=True)\n",
       "      (relu): ReLU(inplace=True)\n",
       "      (conv2): Conv2d(128, 128, kernel_size=(3, 3), stride=(1, 1), padding=(1, 1), bias=False)\n",
       "      (bn2): BatchNorm2d(128, eps=1e-05, momentum=0.1, affine=True, track_running_stats=True)\n",
       "      (downsample): Sequential(\n",
       "        (0): Conv2d(64, 128, kernel_size=(3, 3), stride=(2, 2), padding=(1, 1), bias=False)\n",
       "        (1): BatchNorm2d(128, eps=1e-05, momentum=0.1, affine=True, track_running_stats=True)\n",
       "      )\n",
       "      (dropout): Dropout(p=0.6, inplace=False)\n",
       "    )\n",
       "    (1): ResidualBlock(\n",
       "      (conv1): Conv2d(128, 128, kernel_size=(3, 3), stride=(1, 1), padding=(1, 1), bias=False)\n",
       "      (bn1): BatchNorm2d(128, eps=1e-05, momentum=0.1, affine=True, track_running_stats=True)\n",
       "      (relu): ReLU(inplace=True)\n",
       "      (conv2): Conv2d(128, 128, kernel_size=(3, 3), stride=(1, 1), padding=(1, 1), bias=False)\n",
       "      (bn2): BatchNorm2d(128, eps=1e-05, momentum=0.1, affine=True, track_running_stats=True)\n",
       "      (dropout): Dropout(p=0.6, inplace=False)\n",
       "    )\n",
       "    (2): ResidualBlock(\n",
       "      (conv1): Conv2d(128, 128, kernel_size=(3, 3), stride=(1, 1), padding=(1, 1), bias=False)\n",
       "      (bn1): BatchNorm2d(128, eps=1e-05, momentum=0.1, affine=True, track_running_stats=True)\n",
       "      (relu): ReLU(inplace=True)\n",
       "      (conv2): Conv2d(128, 128, kernel_size=(3, 3), stride=(1, 1), padding=(1, 1), bias=False)\n",
       "      (bn2): BatchNorm2d(128, eps=1e-05, momentum=0.1, affine=True, track_running_stats=True)\n",
       "      (dropout): Dropout(p=0.6, inplace=False)\n",
       "    )\n",
       "  )\n",
       "  (layer4): Sequential(\n",
       "    (0): ResidualBlock(\n",
       "      (conv1): Conv2d(128, 256, kernel_size=(3, 3), stride=(2, 2), padding=(1, 1), bias=False)\n",
       "      (bn1): BatchNorm2d(256, eps=1e-05, momentum=0.1, affine=True, track_running_stats=True)\n",
       "      (relu): ReLU(inplace=True)\n",
       "      (conv2): Conv2d(256, 256, kernel_size=(3, 3), stride=(1, 1), padding=(1, 1), bias=False)\n",
       "      (bn2): BatchNorm2d(256, eps=1e-05, momentum=0.1, affine=True, track_running_stats=True)\n",
       "      (downsample): Sequential(\n",
       "        (0): Conv2d(128, 256, kernel_size=(3, 3), stride=(2, 2), padding=(1, 1), bias=False)\n",
       "        (1): BatchNorm2d(256, eps=1e-05, momentum=0.1, affine=True, track_running_stats=True)\n",
       "      )\n",
       "      (dropout): Dropout(p=0.6, inplace=False)\n",
       "    )\n",
       "    (1): ResidualBlock(\n",
       "      (conv1): Conv2d(256, 256, kernel_size=(3, 3), stride=(1, 1), padding=(1, 1), bias=False)\n",
       "      (bn1): BatchNorm2d(256, eps=1e-05, momentum=0.1, affine=True, track_running_stats=True)\n",
       "      (relu): ReLU(inplace=True)\n",
       "      (conv2): Conv2d(256, 256, kernel_size=(3, 3), stride=(1, 1), padding=(1, 1), bias=False)\n",
       "      (bn2): BatchNorm2d(256, eps=1e-05, momentum=0.1, affine=True, track_running_stats=True)\n",
       "      (dropout): Dropout(p=0.6, inplace=False)\n",
       "    )\n",
       "    (2): ResidualBlock(\n",
       "      (conv1): Conv2d(256, 256, kernel_size=(3, 3), stride=(1, 1), padding=(1, 1), bias=False)\n",
       "      (bn1): BatchNorm2d(256, eps=1e-05, momentum=0.1, affine=True, track_running_stats=True)\n",
       "      (relu): ReLU(inplace=True)\n",
       "      (conv2): Conv2d(256, 256, kernel_size=(3, 3), stride=(1, 1), padding=(1, 1), bias=False)\n",
       "      (bn2): BatchNorm2d(256, eps=1e-05, momentum=0.1, affine=True, track_running_stats=True)\n",
       "      (dropout): Dropout(p=0.6, inplace=False)\n",
       "    )\n",
       "  )\n",
       "  (avg_pool): AvgPool2d(kernel_size=4, stride=4, padding=0)\n",
       "  (fc): Linear(in_features=256, out_features=10, bias=True)\n",
       ")"
      ]
     },
     "execution_count": 18,
     "metadata": {},
     "output_type": "execute_result"
    }
   ],
   "source": [
    "model"
   ]
  },
  {
   "cell_type": "markdown",
   "metadata": {},
   "source": [
    "## Model Training"
   ]
  },
  {
   "cell_type": "code",
   "execution_count": 20,
   "metadata": {
    "colab": {
     "base_uri": "https://localhost:8080/"
    },
    "id": "IAn1jcbhqRM9",
    "outputId": "3690b4a6-846f-4f11-bd7d-4fc4424d7b6b"
   },
   "outputs": [
    {
     "name": "stderr",
     "output_type": "stream",
     "text": [
      "/usr/lib/python3.10/multiprocessing/popen_fork.py:66: RuntimeWarning: os.fork() was called. os.fork() is incompatible with multithreaded code, and JAX is multithreaded, so this will likely lead to a deadlock.\n",
      "  self.pid = os.fork()\n"
     ]
    },
    {
     "name": "stdout",
     "output_type": "stream",
     "text": [
      "Epoch [1/150], Loss: 2.2594\n",
      "Epoch [2/150], Loss: 1.6807\n",
      "Epoch [3/150], Loss: 1.3600\n",
      "Epoch [4/150], Loss: 1.1162\n",
      "Epoch [5/150], Loss: 0.9685\n",
      "Epoch [6/150], Loss: 0.8514\n",
      "Epoch [7/150], Loss: 0.7670\n",
      "Epoch [8/150], Loss: 0.7117\n",
      "Epoch [9/150], Loss: 0.6857\n",
      "Epoch [10/150], Loss: 0.6572\n",
      "Epoch [11/150], Loss: 0.6377\n",
      "Epoch [12/150], Loss: 0.6246\n",
      "Epoch [13/150], Loss: 0.6090\n",
      "Epoch [14/150], Loss: 0.6031\n",
      "Epoch [15/150], Loss: 0.5896\n",
      "Epoch [16/150], Loss: 0.5837\n",
      "Epoch [17/150], Loss: 0.5790\n",
      "Epoch [18/150], Loss: 0.5730\n",
      "Epoch [19/150], Loss: 0.5680\n",
      "Epoch [20/150], Loss: 0.5562\n",
      "Epoch [21/150], Loss: 0.5594\n",
      "Epoch [22/150], Loss: 0.5475\n",
      "Epoch [23/150], Loss: 0.5459\n",
      "Epoch [24/150], Loss: 0.5400\n",
      "Epoch [25/150], Loss: 0.5425\n",
      "Epoch [26/150], Loss: 0.5434\n",
      "Epoch [27/150], Loss: 0.5440\n",
      "Epoch [28/150], Loss: 0.5340\n",
      "Epoch [29/150], Loss: 0.5283\n",
      "Epoch [30/150], Loss: 0.5367\n",
      "Epoch [31/150], Loss: 0.3733\n",
      "Epoch [32/150], Loss: 0.3200\n",
      "Epoch [33/150], Loss: 0.2995\n",
      "Epoch [34/150], Loss: 0.2881\n",
      "Epoch [35/150], Loss: 0.2718\n",
      "Epoch [36/150], Loss: 0.2662\n",
      "Epoch [37/150], Loss: 0.2567\n",
      "Epoch [38/150], Loss: 0.2546\n",
      "Epoch [39/150], Loss: 0.2445\n",
      "Epoch [40/150], Loss: 0.2383\n",
      "Epoch [41/150], Loss: 0.2317\n",
      "Epoch [42/150], Loss: 0.2326\n",
      "Epoch [43/150], Loss: 0.2263\n",
      "Epoch [44/150], Loss: 0.2235\n",
      "Epoch [45/150], Loss: 0.2191\n",
      "Epoch [46/150], Loss: 0.2174\n",
      "Epoch [47/150], Loss: 0.2124\n",
      "Epoch [48/150], Loss: 0.2141\n",
      "Epoch [49/150], Loss: 0.2181\n",
      "Epoch [50/150], Loss: 0.2088\n",
      "Epoch [51/150], Loss: 0.2127\n",
      "Epoch [52/150], Loss: 0.2116\n",
      "Epoch [53/150], Loss: 0.2093\n",
      "Epoch [54/150], Loss: 0.2048\n",
      "Epoch [55/150], Loss: 0.2086\n",
      "Epoch [56/150], Loss: 0.2068\n",
      "Epoch [57/150], Loss: 0.2013\n",
      "Epoch [58/150], Loss: 0.2054\n",
      "Epoch [59/150], Loss: 0.2032\n",
      "Epoch [60/150], Loss: 0.2019\n",
      "Epoch [61/150], Loss: 0.1602\n",
      "Epoch [62/150], Loss: 0.1332\n",
      "Epoch [63/150], Loss: 0.1313\n",
      "Epoch [64/150], Loss: 0.1257\n",
      "Epoch [65/150], Loss: 0.1221\n",
      "Epoch [66/150], Loss: 0.1181\n",
      "Epoch [67/150], Loss: 0.1129\n",
      "Epoch [68/150], Loss: 0.1080\n",
      "Epoch [69/150], Loss: 0.1097\n",
      "Epoch [70/150], Loss: 0.1058\n",
      "Epoch [71/150], Loss: 0.1046\n",
      "Epoch [72/150], Loss: 0.1006\n",
      "Epoch [73/150], Loss: 0.1007\n",
      "Epoch [74/150], Loss: 0.0985\n",
      "Epoch [75/150], Loss: 0.1000\n",
      "Epoch [76/150], Loss: 0.0951\n",
      "Epoch [77/150], Loss: 0.0951\n",
      "Epoch [78/150], Loss: 0.0939\n",
      "Epoch [79/150], Loss: 0.0924\n",
      "Epoch [80/150], Loss: 0.0906\n",
      "Epoch [81/150], Loss: 0.0896\n",
      "Epoch [82/150], Loss: 0.0859\n",
      "Epoch [83/150], Loss: 0.0857\n",
      "Epoch [84/150], Loss: 0.0840\n",
      "Epoch [85/150], Loss: 0.0832\n",
      "Epoch [86/150], Loss: 0.0859\n",
      "Epoch [87/150], Loss: 0.0819\n",
      "Epoch [88/150], Loss: 0.0809\n",
      "Epoch [89/150], Loss: 0.0796\n",
      "Epoch [90/150], Loss: 0.0783\n",
      "Epoch [91/150], Loss: 0.0754\n",
      "Epoch [92/150], Loss: 0.0760\n",
      "Epoch [93/150], Loss: 0.0744\n",
      "Epoch [94/150], Loss: 0.0743\n",
      "Epoch [95/150], Loss: 0.0710\n",
      "Epoch [96/150], Loss: 0.0714\n",
      "Epoch [97/150], Loss: 0.0721\n",
      "Epoch [98/150], Loss: 0.0706\n",
      "Epoch [99/150], Loss: 0.0707\n",
      "Epoch [100/150], Loss: 0.0689\n",
      "Epoch [101/150], Loss: 0.0685\n",
      "Epoch [102/150], Loss: 0.0701\n",
      "Epoch [103/150], Loss: 0.0707\n",
      "Epoch [104/150], Loss: 0.0678\n",
      "Epoch [105/150], Loss: 0.0697\n",
      "Epoch [106/150], Loss: 0.0705\n",
      "Epoch [107/150], Loss: 0.0678\n",
      "Epoch [108/150], Loss: 0.0690\n",
      "Epoch [109/150], Loss: 0.0699\n",
      "Epoch [110/150], Loss: 0.0698\n",
      "Epoch [111/150], Loss: 0.0691\n",
      "Epoch [112/150], Loss: 0.0665\n",
      "Epoch [113/150], Loss: 0.0681\n",
      "Epoch [114/150], Loss: 0.0683\n",
      "Epoch [115/150], Loss: 0.0675\n",
      "Epoch [116/150], Loss: 0.0671\n",
      "Epoch [117/150], Loss: 0.0654\n",
      "Epoch [118/150], Loss: 0.0654\n",
      "Epoch [119/150], Loss: 0.0669\n",
      "Epoch [120/150], Loss: 0.0659\n",
      "Epoch [121/150], Loss: 0.0644\n",
      "Epoch [122/150], Loss: 0.0656\n",
      "Epoch [123/150], Loss: 0.0656\n",
      "Epoch [124/150], Loss: 0.0634\n",
      "Epoch [125/150], Loss: 0.0669\n",
      "Epoch [126/150], Loss: 0.0658\n",
      "Epoch [127/150], Loss: 0.0648\n",
      "Epoch [128/150], Loss: 0.0645\n",
      "Epoch [129/150], Loss: 0.0656\n",
      "Epoch [130/150], Loss: 0.0662\n",
      "Epoch [131/150], Loss: 0.0645\n",
      "Epoch [132/150], Loss: 0.0657\n",
      "Epoch [133/150], Loss: 0.0652\n",
      "Epoch [134/150], Loss: 0.0649\n",
      "Epoch [135/150], Loss: 0.0665\n",
      "Epoch [136/150], Loss: 0.0662\n",
      "Epoch [137/150], Loss: 0.0669\n",
      "Epoch [138/150], Loss: 0.0674\n",
      "Epoch [139/150], Loss: 0.0660\n",
      "Epoch [140/150], Loss: 0.0644\n",
      "Epoch [141/150], Loss: 0.0672\n",
      "Epoch [142/150], Loss: 0.0661\n",
      "Epoch [143/150], Loss: 0.0663\n",
      "Epoch [144/150], Loss: 0.0660\n",
      "Epoch [145/150], Loss: 0.0660\n",
      "Epoch [146/150], Loss: 0.0629\n",
      "Epoch [147/150], Loss: 0.0641\n",
      "Epoch [148/150], Loss: 0.0658\n",
      "Epoch [149/150], Loss: 0.0646\n",
      "Epoch [150/150], Loss: 0.0641\n"
     ]
    }
   ],
   "source": [
    "#Try the Learning Rate Scheduler\n",
    "\n",
    "device = torch.device(\"cuda:0\" if torch.cuda.is_available() else \"cpu\")\n",
    "model = model.to(device)\n",
    "\n",
    "# Choosing loss and optimizers\n",
    "criterion = nn.CrossEntropyLoss()\n",
    "optimizer = optim.SGD(model.parameters(), lr=0.1, momentum=0.9, weight_decay=6e-4)\n",
    "\n",
    "# Define the learning rate scheduler\n",
    "scheduler = optim.lr_scheduler.StepLR(optimizer, step_size=30, gamma=0.1)\n",
    "\n",
    "num_epochs = 150\n",
    "\n",
    "loss_values = []\n",
    "\n",
    "for epoch in range(num_epochs):\n",
    "    model.train()\n",
    "    running_loss = 0.0\n",
    "\n",
    "    for inputs, labels in train_loader:\n",
    "        inputs, labels = inputs.to(device), labels.to(device)\n",
    "\n",
    "        optimizer.zero_grad()\n",
    "\n",
    "        outputs = model(inputs)\n",
    "        loss = criterion(outputs, labels)\n",
    "\n",
    "        loss.backward()\n",
    "        optimizer.step()\n",
    "\n",
    "        running_loss += loss.item()\n",
    "\n",
    "    scheduler.step()\n",
    "\n",
    "    print(f'Epoch [{epoch + 1}/{num_epochs}], Loss: {running_loss/len(train_loader):.4f}')\n",
    "    loss_values.append(running_loss/len(train_loader))"
   ]
  },
  {
   "cell_type": "markdown",
   "metadata": {},
   "source": [
    "# Model Training and Performance Analysis"
   ]
  },
  {
   "cell_type": "code",
   "execution_count": 21,
   "metadata": {
    "colab": {
     "base_uri": "https://localhost:8080/",
     "height": 487
    },
    "id": "S5_04bpBFiXk",
    "outputId": "e4a258ac-0644-44d3-a87d-5b145dea4508"
   },
   "outputs": [
    {
     "data": {
      "image/png": "[encoded data removed]",
      "text/plain": [
       "<Figure size 1000x500 with 1 Axes>"
      ]
     },
     "metadata": {},
     "output_type": "display_data"
    }
   ],
   "source": [
    "plt.figure(figsize=(10, 5))\n",
    "plt.plot(loss_values, label='Training Loss')\n",
    "plt.title('Training Loss per Epoch')\n",
    "plt.xlabel('Epochs')\n",
    "plt.ylabel('Loss')\n",
    "plt.legend()\n",
    "plt.grid(True)\n",
    "plt.show()"
   ]
  },
  {
   "cell_type": "code",
   "execution_count": 22,
   "metadata": {
    "colab": {
     "base_uri": "https://localhost:8080/"
    },
    "id": "CUQPcwHzqRM9",
    "outputId": "095a4019-cf8e-4ed3-a183-373029cc40af"
   },
   "outputs": [
    {
     "name": "stdout",
     "output_type": "stream",
     "text": [
      "Accuracy of the model on the test set: 93.14%\n"
     ]
    }
   ],
   "source": [
    "model.eval()\n",
    "\n",
    "correct_predictions = 0\n",
    "total_predictions = 0\n",
    "\n",
    "with torch.no_grad():\n",
    "    for data in val_loader:\n",
    "        inputs, labels = data[0].to(device), data[1].to(device)\n",
    "\n",
    "        outputs = model(inputs)\n",
    "\n",
    "        _, predicted = torch.max(outputs.data, 1)\n",
    "\n",
    "        total_predictions += labels.size(0)\n",
    "        correct_predictions += (predicted == labels).sum().item()\n",
    "\n",
    "accuracy = 100 * correct_predictions / total_predictions\n",
    "print(f'Accuracy of the model on the test set: {accuracy:.2f}%')"
   ]
  },
  {
   "cell_type": "code",
   "execution_count": 23,
   "metadata": {
    "id": "M-WOOppKEavC"
   },
   "outputs": [],
   "source": [
    "def load_cifar_batch(file):\n",
    "    with open(file, 'rb') as fo:\n",
    "        batch = pickle.load(fo, encoding='bytes')\n",
    "    return batch\n",
    "\n",
    "cifar10_batch = load_cifar_batch('/content/dataset/test/cifar_test_nolabels.pkl')\n",
    "\n",
    "transform_test = transforms.Compose([\n",
    "    transforms.ToTensor(),\n",
    "    transforms.Normalize((0.5, 0.5, 0.5), (0.5, 0.5, 0.5))\n",
    "])\n",
    "\n",
    "images = cifar10_batch[b'data'].reshape(-1, 3, 32, 32)\n",
    "ids = cifar10_batch[b'ids']\n",
    "pred_labels = np.zeros(ids.shape, dtype=\"int32\")\n",
    "\n",
    "model = model.cuda()\n",
    "model.eval()\n",
    "\n",
    "for i in range(len(images)):\n",
    "    with torch.no_grad():\n",
    "        test_image = images[i]\n",
    "        test_image = np.transpose(test_image, (1,2,0))\n",
    "        test_image = transform_test(test_image)\n",
    "        test_image = test_image.unsqueeze(0).cuda()\n",
    "\n",
    "        pred = model(test_image)\n",
    "        _, predicted = torch.max(pred, 1)\n",
    "        pred_labels[i] = predicted\n",
    "\n",
    "\n",
    "test_results = pd.DataFrame({'ID': ids, 'Labels': pred_labels})\n",
    "test_results.to_csv('/content/dataset/result.csv', index=False)"
   ]
  },
  {
   "cell_type": "markdown",
   "metadata": {},
   "source": [
    "### Saving the model weights"
   ]
  },
  {
   "cell_type": "code",
   "execution_count": 23,
   "metadata": {
    "id": "1wNuFn-fEavC"
   },
   "outputs": [],
   "source": [
    "torch.save(model.state_dict(), \"./model.pth\")"
   ]
  }
 ],
 "metadata": {
  "accelerator": "GPU",
  "colab": {
   "gpuType": "A100",
   "machine_shape": "hm",
   "provenance": []
  },
  "kaggle": {
   "accelerator": "tpu1vmV38",
   "dataSources": [
    {
     "databundleVersionId": 8112053,
     "sourceId": 73233,
     "sourceType": "competition"
    },
    {
     "datasetId": 4767195,
     "sourceId": 8077621,
     "sourceType": "datasetVersion"
    },
    {
     "datasetId": 4767198,
     "sourceId": 8077626,
     "sourceType": "datasetVersion"
    },
    {
     "datasetId": 4767200,
     "sourceId": 8077639,
     "sourceType": "datasetVersion"
    }
   ],
   "dockerImageVersionId": 30683,
   "isGpuEnabled": false,
   "isInternetEnabled": true,
   "language": "python",
   "sourceType": "notebook"
  },
  "kernelspec": {
   "display_name": "Python 3",
   "name": "python3"
  },
  "language_info": {
   "codemirror_mode": {
    "name": "ipython",
    "version": 3
   },
   "file_extension": ".py",
   "mimetype": "text/x-python",
   "name": "python",
   "nbconvert_exporter": "python",
   "pygments_lexer": "ipython3",
   "version": "3.10.12"
  }
 },
 "nbformat": 4,
 "nbformat_minor": 0
}
